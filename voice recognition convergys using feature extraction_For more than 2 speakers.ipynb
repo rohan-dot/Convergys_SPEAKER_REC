{
 "cells": [
  {
   "cell_type": "code",
   "execution_count": 301,
   "metadata": {},
   "outputs": [],
   "source": [
    "import os\n",
    "import librosa\n",
    "import numpy as np\n"
   ]
  },
  {
   "cell_type": "code",
   "execution_count": 302,
   "metadata": {},
   "outputs": [],
   "source": [
    "def look_through(category):\n",
    "    \n",
    "    listOfFiles = os.listdir(category)\n",
    "    arrays_sound = np.empty((0,166))\n",
    "    for file in listOfFiles:\n",
    "        filename = os.path.join(category,file)\n",
    "        features_sound = extract_data(filename)\n",
    "        arrays_sound = np.vstack((arrays_sound,features_sound))\n",
    "    return arrays_sound"
   ]
  },
  {
   "cell_type": "code",
   "execution_count": 303,
   "metadata": {},
   "outputs": [],
   "source": [
    "def extract_data(file_name):\n",
    "    \n",
    "    X, sample_rate = librosa.load(file_name , duration = 5.0)\n",
    "    stft = np.abs(librosa.stft(X))\n",
    "    mfccs = np.mean(librosa.feature.mfcc(y=X, sr=sample_rate, n_mfcc=13).T,axis=0)\n",
    "    chroma = np.mean(librosa.feature.chroma_stft(S=stft, sr=sample_rate).T,axis=0)\n",
    "    mel = np.mean(librosa.feature.melspectrogram(X, sr=sample_rate).T,axis=0)\n",
    "    contrast = np.mean(librosa.feature.spectral_contrast(S=stft, sr=sample_rate).T,axis=0)\n",
    "    tonnetz = np.mean(librosa.feature.tonnetz(y=librosa.effects.harmonic(X),sr=sample_rate).T,axis=0)\n",
    "    return np.hstack((mfccs,chroma,mel,contrast,tonnetz))"
   ]
  },
  {
   "cell_type": "markdown",
   "metadata": {},
   "source": [
    "SPEAKER 1 SOUNDS We are assigning 0 to speaker one as the numbe rof speakers incrfease we have to assign each of them a label"
   ]
  },
  {
   "cell_type": "code",
   "execution_count": 304,
   "metadata": {},
   "outputs": [],
   "source": [
    "speaker1_sounds = look_through(r'C:\\Users\\dell15\\concentrix\\TRAIN\\speaker3')\n",
    "speaker1_labels = [0 for items in speaker1_sounds]"
   ]
  },
  {
   "cell_type": "code",
   "execution_count": 305,
   "metadata": {},
   "outputs": [],
   "source": [
    "speaker2_sounds = look_through(r'C:\\Users\\dell15\\concentrix\\speaker2')\n",
    "speaker2_labels = [1 for items in speaker2_sounds]"
   ]
  },
  {
   "cell_type": "code",
   "execution_count": 306,
   "metadata": {},
   "outputs": [],
   "source": [
    "speaker3_sounds = look_through(r'C:\\Users\\dell15\\concentrix\\attere')\n",
    "speaker3_labels = [2 for items in speaker3_sounds]"
   ]
  },
  {
   "cell_type": "code",
   "execution_count": 307,
   "metadata": {},
   "outputs": [],
   "source": [
    "speaker4_sounds = look_through(r'C:\\Users\\dell15\\concentrix\\speaer1')\n",
    "speaker4_labels = [3 for items in speaker4_sounds]"
   ]
  },
  {
   "cell_type": "code",
   "execution_count": 308,
   "metadata": {},
   "outputs": [],
   "source": [
    "speaker5_sounds = look_through(r'C:\\Users\\dell15\\concentrix\\speaker1')\n",
    "speaker5_labels = [4 for items in speaker5_sounds]"
   ]
  },
  {
   "cell_type": "code",
   "execution_count": 309,
   "metadata": {},
   "outputs": [],
   "source": [
    "speaker6_sounds = look_through(r'C:\\Users\\dell15\\concentrix\\bahaoke12')\n",
    "speaker6_labels = [5 for items in speaker6_sounds]"
   ]
  },
  {
   "cell_type": "code",
   "execution_count": 310,
   "metadata": {},
   "outputs": [],
   "source": [
    "speaker7_sounds = look_through(r'C:\\Users\\dell15\\concentrix\\azimov12')\n",
    "speaker7_labels = [6 for items in speaker7_sounds]"
   ]
  },
  {
   "cell_type": "code",
   "execution_count": null,
   "metadata": {},
   "outputs": [],
   "source": []
  },
  {
   "cell_type": "code",
   "execution_count": null,
   "metadata": {},
   "outputs": [],
   "source": []
  },
  {
   "cell_type": "code",
   "execution_count": null,
   "metadata": {},
   "outputs": [],
   "source": []
  },
  {
   "cell_type": "markdown",
   "metadata": {},
   "source": [
    "As the number of speakers increase we add a new label for each speaker"
   ]
  },
  {
   "cell_type": "code",
   "execution_count": 311,
   "metadata": {},
   "outputs": [],
   "source": [
    "train_sounds = np.concatenate((speaker1_sounds, speaker2_sounds,speaker3_sounds,speaker4_sounds,speaker5_sounds,speaker6_sounds,speaker7_sounds))\n",
    "train_labels = np.concatenate((speaker1_labels, speaker2_labels,speaker3_labels,speaker4_labels,speaker5_labels,speaker6_labels,speaker7_labels))"
   ]
  },
  {
   "cell_type": "code",
   "execution_count": 312,
   "metadata": {},
   "outputs": [
    {
     "data": {
      "text/plain": [
       "(449,)"
      ]
     },
     "execution_count": 312,
     "metadata": {},
     "output_type": "execute_result"
    }
   ],
   "source": [
    "train_labels.shape"
   ]
  },
  {
   "cell_type": "code",
   "execution_count": 313,
   "metadata": {},
   "outputs": [],
   "source": [
    "from sklearn.metrics import accuracy_score\n",
    "from sklearn.model_selection import train_test_split, cross_val_score\n",
    "\n",
    "X_train, X_test, y_train, y_test = train_test_split(\n",
    "    train_sounds, train_labels, test_size=0.40, random_state=42\n",
    ")"
   ]
  },
  {
   "cell_type": "code",
   "execution_count": 314,
   "metadata": {},
   "outputs": [],
   "source": [
    "import xgboost as xgb"
   ]
  },
  {
   "cell_type": "code",
   "execution_count": 315,
   "metadata": {},
   "outputs": [],
   "source": [
    "params = {\n",
    "    \n",
    "    'max_depth': 8, \n",
    "    'eta':.03,\n",
    "    'subsample': 1, \n",
    "    'colsample_bytree': 0.8, \n",
    "    'n_estimators': 500,\n",
    "    'objective': 'multi:softmax',\n",
    "  #  'objective':'multi:softmax',\n",
    "    'eval_metric':'mlogloss',\n",
    "    'num_class': 7, #classes is the number of speaers in the set\n",
    "    #'n_classes':7,\n",
    "    'silent': 1\n",
    "}\n",
    "\n",
    "#'objective': 'multi:softprob',  # error evaluation for multiclass training\n",
    "    #'num_class': 3}"
   ]
  },
  {
   "cell_type": "markdown",
   "metadata": {},
   "source": [
    "Experiment with the params to get even better results as it is a binary classification model the objective is binary:logistic refer to xgboost documentation to change objective if there are more than 2 speakers"
   ]
  },
  {
   "cell_type": "code",
   "execution_count": 316,
   "metadata": {},
   "outputs": [],
   "source": [
    "dt = xgdmat=xgb.DMatrix(X_train,y_train)\n",
    "\n",
    "dv = xgdmat=xgb.DMatrix(X_test,y_test)"
   ]
  },
  {
   "cell_type": "code",
   "execution_count": 318,
   "metadata": {},
   "outputs": [
    {
     "name": "stdout",
     "output_type": "stream",
     "text": [
      "[0]\ttrain-mlogloss:1.85877\tvalid-mlogloss:1.86546\n",
      "[99]\ttrain-mlogloss:0.099847\tvalid-mlogloss:0.173259\n"
     ]
    }
   ],
   "source": [
    "model = xgb.train(params, dt, 100, [(dt, \"train\"),(dv, \"valid\")], verbose_eval=200)"
   ]
  },
  {
   "cell_type": "markdown",
   "metadata": {},
   "source": [
    "experiment with the value 400 increaseing and decreasing to get better results stop experimenting when the logloss starts increasing"
   ]
  },
  {
   "cell_type": "code",
   "execution_count": null,
   "metadata": {},
   "outputs": [],
   "source": [
    "from sklearn.metrics import confusion_matrix\n",
    "\n",
    "\n",
    "\n",
    "from termcolor import colored"
   ]
  },
  {
   "cell_type": "code",
   "execution_count": 321,
   "metadata": {},
   "outputs": [],
   "source": [
    "y_pred = model.predict(dv)\n",
    "# Making the Confusion Matrix\n",
    "#cm = confusion_matrix(y_test, (y_pred>0.5))\n",
    "#print(colored('The Confusion Matrix is: ', 'red'),'\\n', cm)\n",
    "# Calculate the accuracy on test set\n",
    "#predict_accuracy_on_test_set = (cm[0,0] + cm[1,1])/(cm[0,0] + cm[1,1]+cm[1,0] + cm[0,1])\n",
    "#print(colored('The Accuracy on Test Set is: ', 'blue'), colored(predict_accuracy_on_test_set, 'blue'))"
   ]
  },
  {
   "cell_type": "markdown",
   "metadata": {},
   "source": [
    "ABOVE snippet predicts accuracy and shows the confusion matrix"
   ]
  },
  {
   "cell_type": "code",
   "execution_count": 322,
   "metadata": {},
   "outputs": [],
   "source": [
    "y_test_non_category = [ np.argmax(t) for t in y_test ]\n",
    "y_predict_non_category = [ np.argmax(t) for t in y_pred ]"
   ]
  },
  {
   "cell_type": "code",
   "execution_count": 323,
   "metadata": {},
   "outputs": [],
   "source": [
    "#conf_mat = confusion_matrix(y_test_non_category, y_predict_non_category)"
   ]
  },
  {
   "cell_type": "code",
   "execution_count": 324,
   "metadata": {},
   "outputs": [
    {
     "data": {
      "text/plain": [
       "0.99444444444444446"
      ]
     },
     "execution_count": 324,
     "metadata": {},
     "output_type": "execute_result"
    }
   ],
   "source": [
    "accuracy_score(y_test, y_pred)"
   ]
  },
  {
   "cell_type": "code",
   "execution_count": null,
   "metadata": {},
   "outputs": [],
   "source": []
  },
  {
   "cell_type": "code",
   "execution_count": 328,
   "metadata": {},
   "outputs": [
    {
     "name": "stdout",
     "output_type": "stream",
     "text": [
      "1\n",
      "6\n"
     ]
    }
   ],
   "source": [
    "def algo_for_det(wav_file):\n",
    "    human_sounds = look_through(img_file)\n",
    "    dv = xgdmat=xgb.DMatrix(X_test,y)\n",
    "    \n",
    "    #plt.show()\n",
    "    if(face_detector('im_ver.jpg')==True):\n",
    "        \n",
    "        print(\"Hi convergys employee your name is\")\n",
    "        print(human)\n",
    "        print (\"  \")\n"
   ]
  },
  {
   "cell_type": "code",
   "execution_count": null,
   "metadata": {},
   "outputs": [],
   "source": []
  }
 ],
 "metadata": {
  "kernelspec": {
   "display_name": "Python 3",
   "language": "python",
   "name": "python3"
  },
  "language_info": {
   "codemirror_mode": {
    "name": "ipython",
    "version": 3
   },
   "file_extension": ".py",
   "mimetype": "text/x-python",
   "name": "python",
   "nbconvert_exporter": "python",
   "pygments_lexer": "ipython3",
   "version": "3.6.5"
  }
 },
 "nbformat": 4,
 "nbformat_minor": 2
}
